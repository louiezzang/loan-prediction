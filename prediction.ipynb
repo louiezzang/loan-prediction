{
 "cells": [
  {
   "cell_type": "markdown",
   "metadata": {},
   "source": [
    "# Loan Analysis & Prediction"
   ]
  },
  {
   "cell_type": "code",
   "execution_count": 1,
   "metadata": {},
   "outputs": [],
   "source": [
    "import os\n",
    "import numpy as np\n",
    "import pandas as pd\n",
    "import matplotlib.pyplot as plt\n",
    "import seaborn as sns\n"
   ]
  },
  {
   "cell_type": "markdown",
   "metadata": {},
   "source": [
    "## Exploratory Data Analysis"
   ]
  },
  {
   "cell_type": "code",
   "execution_count": 2,
   "metadata": {},
   "outputs": [
    {
     "data": {
      "text/html": [
       "<div>\n",
       "<style scoped>\n",
       "    .dataframe tbody tr th:only-of-type {\n",
       "        vertical-align: middle;\n",
       "    }\n",
       "\n",
       "    .dataframe tbody tr th {\n",
       "        vertical-align: top;\n",
       "    }\n",
       "\n",
       "    .dataframe thead th {\n",
       "        text-align: right;\n",
       "    }\n",
       "</style>\n",
       "<table border=\"1\" class=\"dataframe\">\n",
       "  <thead>\n",
       "    <tr style=\"text-align: right;\">\n",
       "      <th></th>\n",
       "      <th>Id</th>\n",
       "      <th>is_bad</th>\n",
       "      <th>emp_length</th>\n",
       "      <th>home_ownership</th>\n",
       "      <th>annual_inc</th>\n",
       "      <th>verification_status</th>\n",
       "      <th>pymnt_plan</th>\n",
       "      <th>purpose_cat</th>\n",
       "      <th>zip_code</th>\n",
       "      <th>addr_state</th>\n",
       "      <th>...</th>\n",
       "      <th>mths_since_last_record</th>\n",
       "      <th>open_acc</th>\n",
       "      <th>pub_rec</th>\n",
       "      <th>revol_bal</th>\n",
       "      <th>revol_util</th>\n",
       "      <th>total_acc</th>\n",
       "      <th>initial_list_status</th>\n",
       "      <th>collections_12_mths_ex_med</th>\n",
       "      <th>mths_since_last_major_derog</th>\n",
       "      <th>policy_code</th>\n",
       "    </tr>\n",
       "  </thead>\n",
       "  <tbody>\n",
       "    <tr>\n",
       "      <th>0</th>\n",
       "      <td>1</td>\n",
       "      <td>0</td>\n",
       "      <td>10</td>\n",
       "      <td>MORTGAGE</td>\n",
       "      <td>50000.0</td>\n",
       "      <td>not verified</td>\n",
       "      <td>n</td>\n",
       "      <td>medical</td>\n",
       "      <td>766xx</td>\n",
       "      <td>TX</td>\n",
       "      <td>...</td>\n",
       "      <td>NaN</td>\n",
       "      <td>15.0</td>\n",
       "      <td>0.0</td>\n",
       "      <td>12087</td>\n",
       "      <td>12.1</td>\n",
       "      <td>44.0</td>\n",
       "      <td>f</td>\n",
       "      <td>0.0</td>\n",
       "      <td>1</td>\n",
       "      <td>PC4</td>\n",
       "    </tr>\n",
       "    <tr>\n",
       "      <th>1</th>\n",
       "      <td>2</td>\n",
       "      <td>0</td>\n",
       "      <td>1</td>\n",
       "      <td>RENT</td>\n",
       "      <td>39216.0</td>\n",
       "      <td>not verified</td>\n",
       "      <td>n</td>\n",
       "      <td>debt consolidation</td>\n",
       "      <td>660xx</td>\n",
       "      <td>KS</td>\n",
       "      <td>...</td>\n",
       "      <td>NaN</td>\n",
       "      <td>4.0</td>\n",
       "      <td>0.0</td>\n",
       "      <td>10114</td>\n",
       "      <td>64.0</td>\n",
       "      <td>5.0</td>\n",
       "      <td>f</td>\n",
       "      <td>0.0</td>\n",
       "      <td>2</td>\n",
       "      <td>PC1</td>\n",
       "    </tr>\n",
       "    <tr>\n",
       "      <th>2</th>\n",
       "      <td>3</td>\n",
       "      <td>0</td>\n",
       "      <td>4</td>\n",
       "      <td>RENT</td>\n",
       "      <td>65000.0</td>\n",
       "      <td>not verified</td>\n",
       "      <td>n</td>\n",
       "      <td>credit card</td>\n",
       "      <td>916xx</td>\n",
       "      <td>CA</td>\n",
       "      <td>...</td>\n",
       "      <td>NaN</td>\n",
       "      <td>4.0</td>\n",
       "      <td>0.0</td>\n",
       "      <td>81</td>\n",
       "      <td>0.6</td>\n",
       "      <td>8.0</td>\n",
       "      <td>f</td>\n",
       "      <td>0.0</td>\n",
       "      <td>3</td>\n",
       "      <td>PC4</td>\n",
       "    </tr>\n",
       "    <tr>\n",
       "      <th>3</th>\n",
       "      <td>4</td>\n",
       "      <td>0</td>\n",
       "      <td>10</td>\n",
       "      <td>MORTGAGE</td>\n",
       "      <td>57500.0</td>\n",
       "      <td>not verified</td>\n",
       "      <td>n</td>\n",
       "      <td>debt consolidation</td>\n",
       "      <td>124xx</td>\n",
       "      <td>NY</td>\n",
       "      <td>...</td>\n",
       "      <td>NaN</td>\n",
       "      <td>6.0</td>\n",
       "      <td>0.0</td>\n",
       "      <td>10030</td>\n",
       "      <td>37.1</td>\n",
       "      <td>23.0</td>\n",
       "      <td>f</td>\n",
       "      <td>0.0</td>\n",
       "      <td>2</td>\n",
       "      <td>PC2</td>\n",
       "    </tr>\n",
       "    <tr>\n",
       "      <th>4</th>\n",
       "      <td>5</td>\n",
       "      <td>0</td>\n",
       "      <td>10</td>\n",
       "      <td>MORTGAGE</td>\n",
       "      <td>50004.0</td>\n",
       "      <td>VERIFIED - income</td>\n",
       "      <td>n</td>\n",
       "      <td>debt consolidation</td>\n",
       "      <td>439xx</td>\n",
       "      <td>OH</td>\n",
       "      <td>...</td>\n",
       "      <td>NaN</td>\n",
       "      <td>8.0</td>\n",
       "      <td>0.0</td>\n",
       "      <td>10740</td>\n",
       "      <td>40.4</td>\n",
       "      <td>21.0</td>\n",
       "      <td>f</td>\n",
       "      <td>0.0</td>\n",
       "      <td>3</td>\n",
       "      <td>PC3</td>\n",
       "    </tr>\n",
       "  </tbody>\n",
       "</table>\n",
       "<p>5 rows × 24 columns</p>\n",
       "</div>"
      ],
      "text/plain": [
       "   Id  is_bad emp_length home_ownership  annual_inc verification_status  \\\n",
       "0   1       0         10       MORTGAGE     50000.0        not verified   \n",
       "1   2       0          1           RENT     39216.0        not verified   \n",
       "2   3       0          4           RENT     65000.0        not verified   \n",
       "3   4       0         10       MORTGAGE     57500.0        not verified   \n",
       "4   5       0         10       MORTGAGE     50004.0   VERIFIED - income   \n",
       "\n",
       "  pymnt_plan         purpose_cat zip_code addr_state     ...       \\\n",
       "0          n             medical    766xx         TX     ...        \n",
       "1          n  debt consolidation    660xx         KS     ...        \n",
       "2          n         credit card    916xx         CA     ...        \n",
       "3          n  debt consolidation    124xx         NY     ...        \n",
       "4          n  debt consolidation    439xx         OH     ...        \n",
       "\n",
       "   mths_since_last_record  open_acc  pub_rec  revol_bal  revol_util  \\\n",
       "0                     NaN      15.0      0.0      12087        12.1   \n",
       "1                     NaN       4.0      0.0      10114        64.0   \n",
       "2                     NaN       4.0      0.0         81         0.6   \n",
       "3                     NaN       6.0      0.0      10030        37.1   \n",
       "4                     NaN       8.0      0.0      10740        40.4   \n",
       "\n",
       "   total_acc  initial_list_status  collections_12_mths_ex_med  \\\n",
       "0       44.0                    f                         0.0   \n",
       "1        5.0                    f                         0.0   \n",
       "2        8.0                    f                         0.0   \n",
       "3       23.0                    f                         0.0   \n",
       "4       21.0                    f                         0.0   \n",
       "\n",
       "   mths_since_last_major_derog  policy_code  \n",
       "0                            1          PC4  \n",
       "1                            2          PC1  \n",
       "2                            3          PC4  \n",
       "3                            2          PC2  \n",
       "4                            3          PC3  \n",
       "\n",
       "[5 rows x 24 columns]"
      ]
     },
     "execution_count": 2,
     "metadata": {},
     "output_type": "execute_result"
    }
   ],
   "source": [
    "# file_url = 'https://s3.amazonaws.com/datarobot_public_datasets/DR_Demo_Lending_Club_reduced.csv'\n",
    "file_path = './input/DR_Demo_Lending_Club_reduced.csv'\n",
    "df_raw_data = pd.read_csv(file_path)\n",
    "df_raw_data.head()"
   ]
  },
  {
   "cell_type": "code",
   "execution_count": 3,
   "metadata": {},
   "outputs": [
    {
     "name": "stdout",
     "output_type": "stream",
     "text": [
      "Data Describe\n",
      "\n",
      "                Id        is_bad     annual_inc  debt_to_income  delinq_2yrs  \\\n",
      "count  10000.00000  10000.000000    9999.000000    10000.000000  9995.000000   \n",
      "mean    5000.50000      0.129500   68203.011539       13.338704     0.148174   \n",
      "std     2886.89568      0.335769   48590.252757        6.754212     0.506270   \n",
      "min        1.00000      0.000000    2000.000000        0.000000     0.000000   \n",
      "25%     2500.75000      0.000000   40000.000000        8.160000     0.000000   \n",
      "50%     5000.50000      0.000000   58000.000000       13.410000     0.000000   \n",
      "75%     7500.25000      0.000000   82000.000000       18.692500     0.000000   \n",
      "max    10000.00000      1.000000  900000.000000       29.990000    11.000000   \n",
      "\n",
      "       inq_last_6mths  mths_since_last_delinq  mths_since_last_record  \\\n",
      "count     9995.000000             3684.000000              840.000000   \n",
      "mean         1.066933               35.890337               61.652381   \n",
      "std          1.476052               22.361443               46.189619   \n",
      "min          0.000000                0.000000                0.000000   \n",
      "25%          0.000000               18.000000                0.000000   \n",
      "50%          1.000000               34.000000               86.000000   \n",
      "75%          2.000000               53.000000              101.000000   \n",
      "max         25.000000              120.000000              119.000000   \n",
      "\n",
      "          open_acc      pub_rec     revol_bal   revol_util    total_acc  \\\n",
      "count  9995.000000  9995.000000  1.000000e+04  9974.000000  9995.000000   \n",
      "mean      9.334567     0.060130  1.427101e+04    48.450771    22.011306   \n",
      "std       4.526590     0.251245  2.543791e+04    28.220557    11.709400   \n",
      "min       1.000000     0.000000  0.000000e+00     0.000000     1.000000   \n",
      "25%       6.000000     0.000000  3.524500e+03    25.000000    13.000000   \n",
      "50%       9.000000     0.000000  8.645500e+03    48.700000    20.000000   \n",
      "75%      12.000000     0.000000  1.695225e+04    71.800000    29.000000   \n",
      "max      39.000000     3.000000  1.207359e+06   100.600000    90.000000   \n",
      "\n",
      "       collections_12_mths_ex_med  mths_since_last_major_derog  \n",
      "count                      9968.0                 10000.000000  \n",
      "mean                          0.0                     2.002200  \n",
      "std                           0.0                     0.810963  \n",
      "min                           0.0                     1.000000  \n",
      "25%                           0.0                     1.000000  \n",
      "50%                           0.0                     2.000000  \n",
      "75%                           0.0                     3.000000  \n",
      "max                           0.0                     3.000000  \n"
     ]
    },
    {
     "data": {
      "text/plain": [
       "<matplotlib.axes._subplots.AxesSubplot at 0x11b4444e0>"
      ]
     },
     "execution_count": 3,
     "metadata": {},
     "output_type": "execute_result"
    },
    {
     "data": {
      "image/png": "[encoded data removed]",
      "text/plain": [
       "<Figure size 432x288 with 1 Axes>"
      ]
     },
     "metadata": {
      "needs_background": "light"
     },
     "output_type": "display_data"
    }
   ],
   "source": [
    "print('Data Describe\\n')\n",
    "print(df_raw_data.describe())\n",
    "sns.countplot(x='is_bad', data=df_raw_data)"
   ]
  },
  {
   "cell_type": "code",
   "execution_count": 4,
   "metadata": {},
   "outputs": [
    {
     "name": "stdout",
     "output_type": "stream",
     "text": [
      "Data Describe - Annual Income and Number of times the loan applicant has missed a loan repayment during the past 2 years\n",
      "\n",
      "          annual_inc  delinq_2yrs\n",
      "count    9999.000000  9995.000000\n",
      "mean    68203.011539     0.148174\n",
      "std     48590.252757     0.506270\n",
      "min      2000.000000     0.000000\n",
      "25%     40000.000000     0.000000\n",
      "50%     58000.000000     0.000000\n",
      "75%     82000.000000     0.000000\n",
      "max    900000.000000    11.000000\n"
     ]
    }
   ],
   "source": [
    "print('Data Describe - Annual Income and Number of times the loan applicant has missed a loan repayment during the past 2 years\\n')\n",
    "print(df_raw_data[['annual_inc','delinq_2yrs']].describe())\n",
    "\n"
   ]
  },
  {
   "cell_type": "code",
   "execution_count": 5,
   "metadata": {},
   "outputs": [
    {
     "name": "stdout",
     "output_type": "stream",
     "text": [
      "Data Corr\n",
      "\n",
      "                                   Id    is_bad  annual_inc  debt_to_income  \\\n",
      "Id                           1.000000  0.010883    0.002736        0.014795   \n",
      "is_bad                       0.010883  1.000000   -0.050975        0.029873   \n",
      "annual_inc                   0.002736 -0.050975    1.000000       -0.130184   \n",
      "debt_to_income               0.014795  0.029873   -0.130184        1.000000   \n",
      "delinq_2yrs                 -0.000116  0.021842    0.038670       -0.034393   \n",
      "inq_last_6mths               0.015789 -0.001146    0.056718        0.012819   \n",
      "mths_since_last_delinq       0.010847  0.001358   -0.024578        0.057264   \n",
      "mths_since_last_record      -0.001643  0.135735    0.006997        0.135642   \n",
      "open_acc                     0.016304 -0.020356    0.233821        0.301003   \n",
      "pub_rec                     -0.002248  0.032174   -0.010398       -0.005351   \n",
      "revol_bal                    0.007223 -0.016202    0.359817        0.163794   \n",
      "revol_util                   0.014310  0.087876    0.030792        0.271439   \n",
      "total_acc                    0.022924 -0.055307    0.329146        0.233594   \n",
      "collections_12_mths_ex_med        NaN       NaN         NaN             NaN   \n",
      "mths_since_last_major_derog -0.004367  0.015481   -0.002476       -0.007031   \n",
      "\n",
      "                             delinq_2yrs  inq_last_6mths  \\\n",
      "Id                             -0.000116        0.015789   \n",
      "is_bad                          0.021842       -0.001146   \n",
      "annual_inc                      0.038670        0.056718   \n",
      "debt_to_income                 -0.034393        0.012819   \n",
      "delinq_2yrs                     1.000000        0.039215   \n",
      "inq_last_6mths                  0.039215        1.000000   \n",
      "mths_since_last_delinq         -0.532198       -0.023393   \n",
      "mths_since_last_record         -0.051665       -0.185354   \n",
      "open_acc                        0.027398        0.088105   \n",
      "pub_rec                         0.020411        0.054711   \n",
      "revol_bal                      -0.030090        0.043130   \n",
      "revol_util                     -0.051301       -0.037232   \n",
      "total_acc                       0.081918        0.084671   \n",
      "collections_12_mths_ex_med           NaN             NaN   \n",
      "mths_since_last_major_derog    -0.002744        0.008570   \n",
      "\n",
      "                             mths_since_last_delinq  mths_since_last_record  \\\n",
      "Id                                         0.010847               -0.001643   \n",
      "is_bad                                     0.001358                0.135735   \n",
      "annual_inc                                -0.024578                0.006997   \n",
      "debt_to_income                             0.057264                0.135642   \n",
      "delinq_2yrs                               -0.532198               -0.051665   \n",
      "inq_last_6mths                            -0.023393               -0.185354   \n",
      "mths_since_last_delinq                     1.000000                0.463951   \n",
      "mths_since_last_record                     0.463951                1.000000   \n",
      "open_acc                                   0.036954                0.079317   \n",
      "pub_rec                                    0.041267                0.784052   \n",
      "revol_bal                                 -0.027052               -0.063885   \n",
      "revol_util                                 0.094004                0.141067   \n",
      "total_acc                                  0.033914                0.153136   \n",
      "collections_12_mths_ex_med                      NaN                     NaN   \n",
      "mths_since_last_major_derog               -0.004022               -0.027471   \n",
      "\n",
      "                             open_acc   pub_rec  revol_bal  revol_util  \\\n",
      "Id                           0.016304 -0.002248   0.007223    0.014310   \n",
      "is_bad                      -0.020356  0.032174  -0.016202    0.087876   \n",
      "annual_inc                   0.233821 -0.010398   0.359817    0.030792   \n",
      "debt_to_income               0.301003 -0.005351   0.163794    0.271439   \n",
      "delinq_2yrs                  0.027398  0.020411  -0.030090   -0.051301   \n",
      "inq_last_6mths               0.088105  0.054711   0.043130   -0.037232   \n",
      "mths_since_last_delinq       0.036954  0.041267  -0.027052    0.094004   \n",
      "mths_since_last_record       0.079317  0.784052  -0.063885    0.141067   \n",
      "open_acc                     1.000000  0.006680   0.233842   -0.074018   \n",
      "pub_rec                      0.006680  1.000000  -0.038547    0.051016   \n",
      "revol_bal                    0.233842 -0.038547   1.000000    0.201962   \n",
      "revol_util                  -0.074018  0.051016   0.201962    1.000000   \n",
      "total_acc                    0.695387 -0.013598   0.257274   -0.051072   \n",
      "collections_12_mths_ex_med        NaN       NaN        NaN         NaN   \n",
      "mths_since_last_major_derog -0.006169 -0.002614  -0.007541   -0.002756   \n",
      "\n",
      "                             total_acc  collections_12_mths_ex_med  \\\n",
      "Id                            0.022924                         NaN   \n",
      "is_bad                       -0.055307                         NaN   \n",
      "annual_inc                    0.329146                         NaN   \n",
      "debt_to_income                0.233594                         NaN   \n",
      "delinq_2yrs                   0.081918                         NaN   \n",
      "inq_last_6mths                0.084671                         NaN   \n",
      "mths_since_last_delinq        0.033914                         NaN   \n",
      "mths_since_last_record        0.153136                         NaN   \n",
      "open_acc                      0.695387                         NaN   \n",
      "pub_rec                      -0.013598                         NaN   \n",
      "revol_bal                     0.257274                         NaN   \n",
      "revol_util                   -0.051072                         NaN   \n",
      "total_acc                     1.000000                         NaN   \n",
      "collections_12_mths_ex_med         NaN                         NaN   \n",
      "mths_since_last_major_derog   0.002505                         NaN   \n",
      "\n",
      "                             mths_since_last_major_derog  \n",
      "Id                                             -0.004367  \n",
      "is_bad                                          0.015481  \n",
      "annual_inc                                     -0.002476  \n",
      "debt_to_income                                 -0.007031  \n",
      "delinq_2yrs                                    -0.002744  \n",
      "inq_last_6mths                                  0.008570  \n",
      "mths_since_last_delinq                         -0.004022  \n",
      "mths_since_last_record                         -0.027471  \n",
      "open_acc                                       -0.006169  \n",
      "pub_rec                                        -0.002614  \n",
      "revol_bal                                      -0.007541  \n",
      "revol_util                                     -0.002756  \n",
      "total_acc                                       0.002505  \n",
      "collections_12_mths_ex_med                           NaN  \n",
      "mths_since_last_major_derog                     1.000000  \n"
     ]
    }
   ],
   "source": [
    "print('Data Corr\\n')\n",
    "print(df_raw_data.corr())"
   ]
  },
  {
   "cell_type": "markdown",
   "metadata": {},
   "source": [
    "## Data Preprocessing"
   ]
  },
  {
   "cell_type": "code",
   "execution_count": 6,
   "metadata": {},
   "outputs": [
    {
     "name": "stdout",
     "output_type": "stream",
     "text": [
      "\n",
      "Missing values:\n",
      "------------------------------------\n",
      "Id                                0\n",
      "is_bad                            0\n",
      "emp_length                        0\n",
      "home_ownership                    0\n",
      "annual_inc                        1\n",
      "verification_status               0\n",
      "pymnt_plan                        0\n",
      "purpose_cat                       0\n",
      "zip_code                          0\n",
      "addr_state                        0\n",
      "debt_to_income                    0\n",
      "delinq_2yrs                       5\n",
      "inq_last_6mths                    5\n",
      "mths_since_last_delinq         6316\n",
      "mths_since_last_record         9160\n",
      "open_acc                          5\n",
      "pub_rec                           5\n",
      "revol_bal                         0\n",
      "revol_util                       26\n",
      "total_acc                         5\n",
      "initial_list_status               0\n",
      "collections_12_mths_ex_med       32\n",
      "mths_since_last_major_derog       0\n",
      "policy_code                       0\n",
      "dtype: int64\n",
      "\n",
      "\n",
      "10000\n",
      "\n",
      "Categorical values:\n",
      "------------------------------------\n",
      "\n",
      "pymnt_plan:\n",
      "['n' 'y']\n",
      "\n",
      "initial_list_status:\n",
      "['f' 'm']\n",
      "\n",
      "home_ownership:\n",
      "['MORTGAGE' 'RENT' 'OWN' 'OTHER' 'NONE']\n",
      "\n",
      "policy_code:\n",
      "['PC4' 'PC1' 'PC2' 'PC3' 'PC5']\n",
      "\n",
      "verification_status:\n",
      "['not verified' 'VERIFIED - income' 'VERIFIED - income source']\n",
      "\n",
      "purpose_cat:\n",
      "['medical' 'debt consolidation' 'credit card' 'other' 'car' 'wedding'\n",
      " 'other small business' 'house' 'small business' 'educational'\n",
      " 'major purchase' 'home improvement' 'vacation'\n",
      " 'debt consolidation small business' 'moving' 'credit card small business'\n",
      " 'wedding small business' 'small business small business'\n",
      " 'home improvement small business' 'major purchase small business'\n",
      " 'educational small business' 'house small business' 'renewable energy'\n",
      " 'moving small business' 'medical small business'\n",
      " 'vacation small business' 'car small business']\n",
      "\n",
      "addr_state:\n",
      "['TX' 'KS' 'CA' 'NY' 'OH' 'DC' 'NV' 'IL' 'WA' 'DE' 'FL' 'NJ' 'OK' 'VA'\n",
      " 'NH' 'MA' 'NC' 'OR' 'GA' 'CO' 'MD' 'CT' 'MO' 'WI' 'AZ' 'SC' 'MN' 'MI'\n",
      " 'PA' 'AK' 'AR' 'LA' 'HI' 'WV' 'KY' 'RI' 'AL' 'SD' 'NM' 'ID' 'UT' 'MT'\n",
      " 'WY' 'VT' 'TN' 'IA' 'MS' 'NE' 'IN' 'ME']\n",
      "\n",
      "zip_code:\n",
      "['766xx' '660xx' '916xx' '124xx' '439xx' '200xx' '103xx' '891xx' '612xx'\n",
      " '926xx' '921xx' '980xx' '198xx' '920xx' '604xx' '324xx' '076xx' '925xx'\n",
      " '606xx' '741xx' '234xx' '908xx' '038xx' '236xx' '142xx' '010xx' '614xx'\n",
      " '918xx' '287xx' '972xx' '304xx' '232xx' '802xx' '932xx' '070xx' '088xx'\n",
      " '210xx' '060xx' '633xx' '978xx' '535xx' '335xx' '857xx' '115xx' '104xx'\n",
      " '207xx' '272xx' '913xx' '951xx' '774xx' '221xx' '954xx' '971xx' '554xx'\n",
      " '453xx' '483xx' '188xx' '601xx' '790xx' '995xx' '275xx' '333xx' '720xx'\n",
      " '100xx' '787xx' '791xx' '330xx' '334xx' '700xx' '209xx' '958xx' '930xx'\n",
      " '331xx' '760xx' '297xx' '201xx' '309xx' '208xx' '306xx' '432xx' '173xx'\n",
      " '946xx' '223xx' '551xx' '984xx' '296xx' '080xx' '952xx' '752xx' '170xx'\n",
      " '310xx' '021xx' '982xx' '013xx' '967xx' '455xx' '852xx' '301xx' '903xx'\n",
      " '806xx' '481xx' '856xx' '256xx' '157xx' '144xx' '063xx' '773xx' '799xx'\n",
      " '761xx' '662xx' '600xx' '440xx' '402xx' '112xx' '900xx' '782xx' '605xx'\n",
      " '762xx' '706xx' '703xx' '302xx' '907xx' '181xx' '945xx' '286xx' '922xx'\n",
      " '268xx' '750xx' '775xx' '029xx' '024xx' '935xx' '111xx' '941xx' '785xx'\n",
      " '105xx' '631xx' '917xx' '997xx' '347xx' '246xx' '231xx' '902xx' '077xx'\n",
      " '113xx' '067xx' '320xx' '106xx' '350xx' '712xx' '454xx' '295xx' '290xx'\n",
      " '083xx' '959xx' '928xx' '352xx' '480xx' '968xx' '566xx' '735xx' '730xx'\n",
      " '068xx' '238xx' '241xx' '919xx' '609xx' '303xx' '553xx' '064xx' '336xx'\n",
      " '014xx' '543xx' '890xx' '576xx' '648xx' '801xx' '950xx' '177xx' '146xx'\n",
      " '871xx' '219xx' '488xx' '140xx' '211xx' '906xx' '273xx' '658xx' '085xx'\n",
      " '983xx' '421xx' '087xx' '016xx' '795xx' '127xx' '018xx' '030xx' '117xx'\n",
      " '235xx' '244xx' '548xx' '437xx' '356xx' '557xx' '128xx' '027xx' '065xx'\n",
      " '074xx' '616xx' '863xx' '570xx' '152xx' '110xx' '988xx' '180xx' '837xx'\n",
      " '711xx' '329xx' '299xx' '765xx' '923xx' '325xx' '933xx' '245xx' '724xx'\n",
      " '770xx' '800xx' '940xx' '130xx' '756xx' '905xx' '194xx' '934xx' '550xx'\n",
      " '300xx' '107xx' '990xx' '341xx' '114xx' '278xx' '726xx' '846xx' '346xx'\n",
      " '705xx' '721xx' '444xx' '212xx' '337xx' '442xx' '326xx' '641xx' '992xx'\n",
      " '956xx' '571xx' '914xx' '815xx' '216xx' '280xx' '400xx' '011xx' '079xx'\n",
      " '974xx' '452xx' '406xx' '125xx' '164xx' '328xx' '199xx' '081xx' '260xx'\n",
      " '228xx' '598xx' '189xx' '023xx' '071xx' '158xx' '274xx' '237xx' '129xx'\n",
      " '491xx' '283xx' '540xx' '850xx' '230xx' '086xx' '358xx' '066xx' '716xx'\n",
      " '376xx' '577xx' '710xx' '559xx' '853xx' '981xx' '191xx' '731xx' '342xx'\n",
      " '217xx' '403xx' '171xx' '206xx' '652xx' '613xx' '748xx' '441xx' '498xx'\n",
      " '430xx' '327xx' '985xx' '953xx' '820xx' '174xx' '549xx' '082xx' '960xx'\n",
      " '646xx' '957xx' '120xx' '532xx' '360xx' '486xx' '542xx' '226xx' '344xx'\n",
      " '841xx' '824xx' '546xx' '028xx' '468xx' '622xx' '490xx' '020xx' '222xx'\n",
      " '840xx' '825xx' '482xx' '254xx' '314xx' '317xx' '751xx' '101xx' '218xx'\n",
      " '276xx' '410xx' '620xx' '977xx' '119xx' '740xx' '947xx' '927xx' '626xx'\n",
      " '193xx' '131xx' '339xx' '996xx' '398xx' '025xx' '495xx' '456xx' '261xx'\n",
      " '053xx' '316xx' '359xx' '233xx' '279xx' '783xx' '948xx' '357xx' '190xx'\n",
      " '322xx' '534xx' '811xx' '282xx' '611xx' '701xx' '109xx' '450xx' '108xx'\n",
      " '313xx' '425xx' '075xx' '707xx' '220xx' '804xx' '292xx' '630xx' '780xx'\n",
      " '323xx' '831xx' '031xx' '354xx' '975xx' '619xx' '936xx' '910xx' '404xx'\n",
      " '037xx' '229xx' '895xx' '847xx' '991xx' '737xx' '931xx' '851xx' '349xx'\n",
      " '608xx' '484xx' '073xx' '243xx' '153xx' '986xx' '786xx' '176xx' '563xx'\n",
      " '122xx' '915xx' '361xx' '763xx' '657xx' '663xx' '970xx' '061xx' '150xx'\n",
      " '185xx' '242xx' '538xx' '531xx' '805xx' '640xx' '955xx' '939xx' '911xx'\n",
      " '308xx' '017xx' '949xx' '494xx' '610xx' '381xx' '436xx' '294xx' '489xx'\n",
      " '015xx' '617xx' '541xx' '560xx' '240xx' '904xx' '592xx' '284xx' '777xx'\n",
      " '797xx' '121xx' '722xx' '116xx' '136xx' '145xx' '629xx' '338xx' '197xx'\n",
      " '305xx' '754xx' '492xx' '708xx' '019xx' '912xx' '809xx' '496xx' '875xx'\n",
      " '434xx' '759xx' '253xx' '645xx' '184xx' '195xx' '672xx' '365xx' '154xx'\n",
      " '032xx' '050xx' '133xx' '054xx' '285xx' '591xx' '362xx' '530xx' '163xx'\n",
      " '259xx' '497xx' '351xx' '321xx' '147xx' '973xx' '500xx' '293xx' '446xx'\n",
      " '062xx' '794xx' '602xx' '435xx' '291xx' '445xx' '431xx' '998xx' '371xx'\n",
      " '894xx' '424xx' '597xx' '448xx' '665xx' '281xx' '784xx' '370xx' '137xx'\n",
      " '674xx' '937xx' '161xx' '368xx' '628xx' '897xx' '149xx' '625xx' '363xx'\n",
      " '884xx' '893xx' '829xx' '123xx' '394xx' '182xx' '880xx' '026xx' '813xx'\n",
      " '405xx' '271xx' '704xx' '764xx' '089xx' '676xx' '224xx' '265xx' '944xx'\n",
      " '539xx' '655xx' '451xx' '132xx' '447xx' '433xx' '165xx' '993xx' '225xx'\n",
      " '745xx' '670xx' '757xx' '828xx' '961xx' '315xx' '816xx' '364xx' '624xx'\n",
      " '187xx' '160xx' '427xx' '078xx' '443xx' '594xx' '767xx' '723xx' '727xx'\n",
      " '134xx' '148xx' '493xx' '729xx' '264xx' '318xx' '864xx' '179xx' '392xx'\n",
      " '882xx' '141xx' '458xx' '744xx' '661xx' '457xx' '178xx' '562xx' '183xx'\n",
      " '685xx' '257xx' '830xx' '634xx' '943xx' '976xx' '607xx' '252xx' '793xx'\n",
      " '668xx' '126xx' '118xx' '262xx' '366xx' '803xx' '639xx' '267xx' '810xx'\n",
      " '401xx' '175xx' '544xx' '719xx' '215xx' '778xx' '156xx' '713xx' '166xx'\n",
      " '547xx' '596xx' '599xx' '379xx' '072xx' '135xx' '355xx' '186xx' '808xx'\n",
      " '270xx' '397xx' '084xx' '277xx' '618xx' '056xx' '255xx' '307xx' '319xx'\n",
      " '499xx' '635xx' '860xx' '407xx' '409xx' '258xx' '666xx' '069xx' '251xx'\n",
      " '469xx' '057xx' '034xx' '035xx' '565xx' '739xx' '168xx' '650xx' '196xx'\n",
      " '877xx' '138xx' '749xx' '654xx' '412xx' '151xx' '564xx' '656xx' '969xx'\n",
      " '989xx' '603xx' '627xx' '788xx' '669xx' '781xx' '796xx' '527xx' '827xx'\n",
      " '636xx' '420xx' '651xx' '388xx' '288xx' '874xx' '653xx' '479xx' '673xx'\n",
      " '139xx' '247xx' '537xx' '678xx' '391xx' '717xx' '167xx' '012xx' '395xx'\n",
      " '836xx' '714xx' '681xx' '102xx' '883xx' '227xx' '411xx' '667xx' '638xx'\n",
      " '572xx' '647xx' '471xx' '312xx' '826xx' '558xx' '462xx' '385xx' '214xx'\n",
      " '298xx' '423xx' '390xx' '041xx' '415xx' '768xx' '843xx' '728xx' '743xx'\n",
      " '051xx' '798xx' '593xx' '664xx' '545xx' '266xx' '159xx' '007xx' '637xx']\n"
     ]
    }
   ],
   "source": [
    "from preprocessing import preprocess, check_input_validation\n",
    "\n",
    "# ordinal_categorical_fields_mapping = {\n",
    "#     \"pymnt_plan\": {\"n\": 0, \"y\": 1},\n",
    "#     \"initial_list_status\": {\"f\": 0, \"m\": 1},\n",
    "#     \"home_ownership\": {\"NONE\": 1, \"OTHER\": 2, \"MORTGAGE\": 3, \"RENT\": 4, \"OWN\":  5},\n",
    "#     \"policy_code\": {\"PC1\": 1, \"PC2\": 2, \"PC3\": 3, \"PC4\": 4, \"PC5\":  5},\n",
    "#     \"verification_status\": {\"not verified\": 0, \"VERIFIED - income\": 1, \"VERIFIED - income source\": 1},\n",
    "# }\n",
    "ordinal_categorical_fields_mapping = {}\n",
    "nominal_categorical_fields = [\n",
    "    \"pymnt_plan\",\n",
    "    \"initial_list_status\",\n",
    "    \"home_ownership\",\n",
    "    \"policy_code\",\n",
    "    \"verification_status\",\n",
    "    \"purpose_cat\",\n",
    "    \"addr_state\",\n",
    "    \"zip_code\",\n",
    "]\n",
    "\n",
    "drop_fields = [\n",
    "    \"Id\", \n",
    "#     \"mths_since_last_delinq\",\n",
    "#     \"mths_since_last_record\",\n",
    "#     \"addr_state\",\n",
    "#     \"zip_code\", \n",
    "]\n",
    "\n",
    "df_data = preprocess(data=df_raw_data, \n",
    "                     ordinal_categorical_fields_mapping=ordinal_categorical_fields_mapping, \n",
    "                     nominal_categorical_fields=nominal_categorical_fields,\n",
    "                     drop_fields=drop_fields\n",
    "                    )\n",
    "\n"
   ]
  },
  {
   "cell_type": "code",
   "execution_count": 7,
   "metadata": {},
   "outputs": [
    {
     "name": "stdout",
     "output_type": "stream",
     "text": [
      "\n",
      "Checking the input data validation.............................\n"
     ]
    },
    {
     "data": {
      "text/plain": [
       "True"
      ]
     },
     "execution_count": 7,
     "metadata": {},
     "output_type": "execute_result"
    }
   ],
   "source": [
    "# Check input data validation.\n",
    "check_input_validation(df_data)"
   ]
  },
  {
   "cell_type": "markdown",
   "metadata": {},
   "source": [
    "## Partitioning a dataset in training and test sets"
   ]
  },
  {
   "cell_type": "code",
   "execution_count": 8,
   "metadata": {},
   "outputs": [],
   "source": [
    "from sklearn.model_selection import train_test_split\n",
    "\n",
    "X = df_data.drop('is_bad', axis=1)\n",
    "y = df_data['is_bad'].values\n",
    "X_train, X_test, y_train, y_test = train_test_split(X, y, test_size=0.3, random_state=0)"
   ]
  },
  {
   "cell_type": "markdown",
   "metadata": {},
   "source": [
    "## Training a logistic regression model"
   ]
  },
  {
   "cell_type": "code",
   "execution_count": 24,
   "metadata": {},
   "outputs": [],
   "source": [
    "from prediction_model import PredictionModel\n",
    "\n",
    "# solver: {‘newton-cg’, ‘lbfgs’, ‘liblinear’, ‘sag’, ‘saga’}\n",
    "model = PredictionModel(solver='liblinear', \n",
    "                        penalty='l1', \n",
    "                        max_iter=1000, \n",
    "                        C=1000, \n",
    "                        debug=True)"
   ]
  },
  {
   "cell_type": "code",
   "execution_count": 25,
   "metadata": {},
   "outputs": [
    {
     "data": {
      "text/plain": [
       "LogisticRegression(C=1000, class_weight=None, dual=False, fit_intercept=True,\n",
       "                   intercept_scaling=1, l1_ratio=None, max_iter=1000,\n",
       "                   multi_class='warn', n_jobs=None, penalty='l1',\n",
       "                   random_state=0, solver='liblinear', tol=0.0001, verbose=0,\n",
       "                   warm_start=False)"
      ]
     },
     "execution_count": 25,
     "metadata": {},
     "output_type": "execute_result"
    }
   ],
   "source": [
    "model.fit(X_train, y_train)"
   ]
  },
  {
   "cell_type": "code",
   "execution_count": 26,
   "metadata": {},
   "outputs": [
    {
     "name": "stdout",
     "output_type": "stream",
     "text": [
      "[[6045   35]\n",
      " [ 714  206]]\n",
      "Training evaluation: {'f1_score': 0.35486649440137813, 'log_loss': 3.695653072242595}\n"
     ]
    }
   ],
   "source": [
    "# Training accuracy\n",
    "eval_train = model.evaluate(X_train, y_train)\n",
    "print('Training evaluation:', eval_train)"
   ]
  },
  {
   "cell_type": "markdown",
   "metadata": {},
   "source": [
    "## Evaluate model"
   ]
  },
  {
   "cell_type": "code",
   "execution_count": 27,
   "metadata": {},
   "outputs": [
    {
     "name": "stdout",
     "output_type": "stream",
     "text": [
      "[[2586   39]\n",
      " [ 317   58]]\n",
      "Test evaluation: {'f1_score': 0.24576271186440682, 'log_loss': 4.098611860295994}\n"
     ]
    }
   ],
   "source": [
    "# Test accuracy\n",
    "eval_test = model.evaluate(X_test, y_test)\n",
    "print('Test evaluation:', eval_test)\n",
    "\n"
   ]
  },
  {
   "cell_type": "markdown",
   "metadata": {},
   "source": [
    "## Predict"
   ]
  },
  {
   "cell_type": "code",
   "execution_count": 28,
   "metadata": {},
   "outputs": [
    {
     "data": {
      "text/plain": [
       "array([0, 0, 0, 0, 0, 0, 0, 0, 0, 0, 0, 0, 0, 0, 0, 0, 0, 0, 0, 0, 0, 0,\n",
       "       0, 0, 0, 0, 0, 0, 0, 0, 0, 0, 0, 0, 0, 0, 0, 0, 0, 0, 0, 0, 0, 0,\n",
       "       0, 0, 0, 0, 0, 0])"
      ]
     },
     "execution_count": 28,
     "metadata": {},
     "output_type": "execute_result"
    }
   ],
   "source": [
    "model.predict(X_test[0:50])"
   ]
  },
  {
   "cell_type": "code",
   "execution_count": 29,
   "metadata": {},
   "outputs": [
    {
     "data": {
      "text/plain": [
       "array([[8.48106196e-01, 1.51893804e-01],\n",
       "       [7.76229846e-01, 2.23770154e-01],\n",
       "       [8.86087264e-01, 1.13912736e-01],\n",
       "       [6.67304973e-01, 3.32695027e-01],\n",
       "       [6.59211046e-01, 3.40788954e-01],\n",
       "       [9.64537882e-01, 3.54621177e-02],\n",
       "       [9.98007759e-01, 1.99224066e-03],\n",
       "       [7.06086825e-01, 2.93913175e-01],\n",
       "       [9.99968532e-01, 3.14677145e-05],\n",
       "       [9.23154781e-01, 7.68452193e-02],\n",
       "       [6.85916512e-01, 3.14083488e-01],\n",
       "       [9.84033620e-01, 1.59663803e-02],\n",
       "       [9.39475081e-01, 6.05249192e-02],\n",
       "       [9.99791808e-01, 2.08192269e-04],\n",
       "       [9.03518861e-01, 9.64811395e-02],\n",
       "       [9.99960495e-01, 3.95046076e-05],\n",
       "       [9.70315654e-01, 2.96843464e-02],\n",
       "       [6.83481642e-01, 3.16518358e-01],\n",
       "       [7.86328650e-01, 2.13671350e-01],\n",
       "       [9.99646785e-01, 3.53214559e-04],\n",
       "       [8.99906436e-01, 1.00093564e-01],\n",
       "       [8.01899862e-01, 1.98100138e-01],\n",
       "       [8.73353778e-01, 1.26646222e-01],\n",
       "       [8.83155045e-01, 1.16844955e-01],\n",
       "       [9.99987462e-01, 1.25380382e-05],\n",
       "       [8.39623406e-01, 1.60376594e-01],\n",
       "       [8.33839025e-01, 1.66160975e-01],\n",
       "       [8.61649632e-01, 1.38350368e-01],\n",
       "       [9.83919226e-01, 1.60807736e-02],\n",
       "       [9.99977229e-01, 2.27710543e-05],\n",
       "       [8.92088881e-01, 1.07911119e-01],\n",
       "       [8.82419905e-01, 1.17580095e-01],\n",
       "       [9.07997794e-01, 9.20022057e-02],\n",
       "       [7.12783483e-01, 2.87216517e-01],\n",
       "       [9.35999476e-01, 6.40005238e-02],\n",
       "       [9.99440670e-01, 5.59329636e-04],\n",
       "       [8.44760929e-01, 1.55239071e-01],\n",
       "       [7.45252897e-01, 2.54747103e-01],\n",
       "       [8.53508171e-01, 1.46491829e-01],\n",
       "       [9.98772809e-01, 1.22719116e-03],\n",
       "       [9.17386403e-01, 8.26135966e-02],\n",
       "       [9.99944942e-01, 5.50576432e-05],\n",
       "       [8.40994045e-01, 1.59005955e-01],\n",
       "       [9.19406551e-01, 8.05934488e-02],\n",
       "       [7.07566315e-01, 2.92433685e-01],\n",
       "       [8.78220213e-01, 1.21779787e-01],\n",
       "       [9.99765267e-01, 2.34732999e-04],\n",
       "       [9.48338213e-01, 5.16617868e-02],\n",
       "       [7.63272850e-01, 2.36727150e-01],\n",
       "       [9.99695871e-01, 3.04128919e-04]])"
      ]
     },
     "execution_count": 29,
     "metadata": {},
     "output_type": "execute_result"
    }
   ],
   "source": [
    "model.predict_proba(X_test[0:50])"
   ]
  },
  {
   "cell_type": "markdown",
   "metadata": {},
   "source": [
    "## Tune hyperparameters"
   ]
  },
  {
   "cell_type": "code",
   "execution_count": 31,
   "metadata": {},
   "outputs": [
    {
     "name": "stdout",
     "output_type": "stream",
     "text": [
      "\n",
      "Tuning hyperparameters: It will take time.............\n",
      "best score = 0.89\n",
      "best params = {'C': 1, 'fit_intercept': True, 'solver': 'liblinear', 'tol': 0.001}\n",
      "{'C': 1, 'fit_intercept': True, 'solver': 'liblinear', 'tol': 0.001}\n"
     ]
    },
    {
     "name": "stderr",
     "output_type": "stream",
     "text": [
      "/Library/Frameworks/Python.framework/Versions/3.6/lib/python3.6/site-packages/sklearn/model_selection/_search.py:813: DeprecationWarning: The default of the `iid` parameter will change from True to False in version 0.22 and will be removed in 0.24. This will change numeric results when test-set sizes are unequal.\n",
      "  DeprecationWarning)\n"
     ]
    }
   ],
   "source": [
    "# The evaluation of all possible parameter combinations is computationally very expensive.\n",
    "# Therefore, used the only 200 training data set here.\n",
    "# best_params = model.tune_parameters(X_train, y_train)\n",
    "best_params = model.tune_parameters(X_train[:200], y_train[:200])\n",
    "print(best_params)"
   ]
  },
  {
   "cell_type": "code",
   "execution_count": null,
   "metadata": {},
   "outputs": [],
   "source": []
  }
 ],
 "metadata": {
  "kernelspec": {
   "display_name": "Python 3",
   "language": "python",
   "name": "python3"
  },
  "language_info": {
   "codemirror_mode": {
    "name": "ipython",
    "version": 3
   },
   "file_extension": ".py",
   "mimetype": "text/x-python",
   "name": "python",
   "nbconvert_exporter": "python",
   "pygments_lexer": "ipython3",
   "version": "3.6.5"
  }
 },
 "nbformat": 4,
 "nbformat_minor": 2
}
